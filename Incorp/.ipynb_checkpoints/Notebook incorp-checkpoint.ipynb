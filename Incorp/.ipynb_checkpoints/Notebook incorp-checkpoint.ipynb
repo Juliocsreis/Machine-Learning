{
 "cells": [
  {
   "cell_type": "markdown",
   "metadata": {},
   "source": [
    "## Incorp\n"
   ]
  },
  {
   "cell_type": "markdown",
   "metadata": {},
   "source": [
    "Objetivo: Saber qual são os melhores locais para lançar produtos e o que lançar, tipo do produto.\n",
    "Principais indicadores até agora: \n",
    "R$/m2 para ter uma noção de lucro\n",
    "VSO para saber sobre aceitação do produto e demanda x oferta"
   ]
  },
  {
   "cell_type": "markdown",
   "metadata": {},
   "source": [
    "Imports:"
   ]
  },
  {
   "cell_type": "code",
   "execution_count": 2,
   "metadata": {},
   "outputs": [],
   "source": [
    "import pandas as pd\n",
    "from matplotlib import pyplot\n",
    "import numpy as np"
   ]
  },
  {
   "cell_type": "code",
   "execution_count": 14,
   "metadata": {},
   "outputs": [],
   "source": [
    "df = pd.read_csv('data/pesquisa.csv')\n"
   ]
  },
  {
   "cell_type": "code",
   "execution_count": 15,
   "metadata": {},
   "outputs": [
    {
     "data": {
      "text/html": [
       "<div>\n",
       "<style scoped>\n",
       "    .dataframe tbody tr th:only-of-type {\n",
       "        vertical-align: middle;\n",
       "    }\n",
       "\n",
       "    .dataframe tbody tr th {\n",
       "        vertical-align: top;\n",
       "    }\n",
       "\n",
       "    .dataframe thead th {\n",
       "        text-align: right;\n",
       "    }\n",
       "</style>\n",
       "<table border=\"1\" class=\"dataframe\">\n",
       "  <thead>\n",
       "    <tr style=\"text-align: right;\">\n",
       "      <th></th>\n",
       "      <th>RGI\tCódigo no Mapa\tEmpreendimento\tEdifício\tZona de Valor\tEndereço\tBairro\tDistrito\tRegião\tCidade\tUF\tCEP\tZoneamento\tSetor\tQuadra\tData Lançamento\tData Entrega\tTipologia\tClassificação do tipo\tPadrão\tStatus\tÁrea Terreno\tTorres\tNº de Elevadores\tInfraestrutura\tGrupo Incorporador Apelido\tGrupo Incorporador\tIncorporadora 1\tConstrutora 1\tVendedora 1\tVendedora 2\tUnidade\tDormitórios\tSuítes\tBanheiros\tNº Vagas\tÁrea Privativa\tÁrea Total\tNº Total de Unidades\tNº Unidades por Pavimento\tNº de Pavimentos\tValor do Dolar no lançamento\t(VMU)Preço de venda da unidade no lançamento\t(VUV)Preço m2 privativo no lançamento\t(VMU)Preço de venda da unidade atualizado INCC\t(VUV)Preço m2 privativo atualizado INCC\t(VMU)Preço de venda da unidade atualizado IGPM\t(VUV)Preço m2 privativo atualizado IGPM\t(VMU)Preço de venda da unidade atualizado CUB\t(VUV)Preço m2 privativo atualizado CUB\t(VMU)Preço de venda da unidade na data pesquisa\t(VUV)Preço m2 privativo na data pesquisa\t% Unidades Vendidas\t% Unidades a Vender\tUnidades Vendidas\tQtd em Estoque\tVGV\tModalidade\tBanco\tData Pesquisa</th>\n",
       "    </tr>\n",
       "  </thead>\n",
       "  <tbody>\n",
       "    <tr>\n",
       "      <th>0</th>\n",
       "      <td>311661117\\t1\\tAF ESPLENDORE\\t\\tSOROCABA - SP\\t...</td>\n",
       "    </tr>\n",
       "    <tr>\n",
       "      <th>1</th>\n",
       "      <td>311661117\\t1\\tAF ESPLENDORE\\t\\tSOROCABA - SP\\t...</td>\n",
       "    </tr>\n",
       "    <tr>\n",
       "      <th>2</th>\n",
       "      <td>324011015\\t2\\tALICE RESIDENCIAL\\t\\tSOROCABA - ...</td>\n",
       "    </tr>\n",
       "    <tr>\n",
       "      <th>3</th>\n",
       "      <td>324011015\\t2\\tALICE RESIDENCIAL\\t\\tSOROCABA - ...</td>\n",
       "    </tr>\n",
       "    <tr>\n",
       "      <th>4</th>\n",
       "      <td>36231716\\t3\\tALTOS DO PACO\\t\\tSOROCABA - SP\\tR...</td>\n",
       "    </tr>\n",
       "  </tbody>\n",
       "</table>\n",
       "</div>"
      ],
      "text/plain": [
       "  RGI\\tCódigo no Mapa\\tEmpreendimento\\tEdifício\\tZona de Valor\\tEndereço\\tBairro\\tDistrito\\tRegião\\tCidade\\tUF\\tCEP\\tZoneamento\\tSetor\\tQuadra\\tData Lançamento\\tData Entrega\\tTipologia\\tClassificação do tipo\\tPadrão\\tStatus\\tÁrea Terreno\\tTorres\\tNº de Elevadores\\tInfraestrutura\\tGrupo Incorporador Apelido\\tGrupo Incorporador\\tIncorporadora 1\\tConstrutora 1\\tVendedora 1\\tVendedora 2\\tUnidade\\tDormitórios\\tSuítes\\tBanheiros\\tNº Vagas\\tÁrea Privativa\\tÁrea Total\\tNº Total de Unidades\\tNº Unidades por Pavimento\\tNº de Pavimentos\\tValor do Dolar no lançamento\\t(VMU)Preço de venda da unidade no lançamento\\t(VUV)Preço m2 privativo no lançamento\\t(VMU)Preço de venda da unidade atualizado INCC\\t(VUV)Preço m2 privativo atualizado INCC\\t(VMU)Preço de venda da unidade atualizado IGPM\\t(VUV)Preço m2 privativo atualizado IGPM\\t(VMU)Preço de venda da unidade atualizado CUB\\t(VUV)Preço m2 privativo atualizado CUB\\t(VMU)Preço de venda da unidade na data pesquisa\\t(VUV)Preço m2 privativo na data pesquisa\\t% Unidades Vendidas\\t% Unidades a Vender\\tUnidades Vendidas\\tQtd em Estoque\\tVGV\\tModalidade\\tBanco\\tData Pesquisa\n",
       "0  311661117\\t1\\tAF ESPLENDORE\\t\\tSOROCABA - SP\\t...                                                                                                                                                                                                                                                                                                                                                                                                                                                                                                                                                                                                                                                                                                                                                                                                                                                                                                                                                                                                                                                                                                          \n",
       "1  311661117\\t1\\tAF ESPLENDORE\\t\\tSOROCABA - SP\\t...                                                                                                                                                                                                                                                                                                                                                                                                                                                                                                                                                                                                                                                                                                                                                                                                                                                                                                                                                                                                                                                                                                          \n",
       "2  324011015\\t2\\tALICE RESIDENCIAL\\t\\tSOROCABA - ...                                                                                                                                                                                                                                                                                                                                                                                                                                                                                                                                                                                                                                                                                                                                                                                                                                                                                                                                                                                                                                                                                                          \n",
       "3  324011015\\t2\\tALICE RESIDENCIAL\\t\\tSOROCABA - ...                                                                                                                                                                                                                                                                                                                                                                                                                                                                                                                                                                                                                                                                                                                                                                                                                                                                                                                                                                                                                                                                                                          \n",
       "4  36231716\\t3\\tALTOS DO PACO\\t\\tSOROCABA - SP\\tR...                                                                                                                                                                                                                                                                                                                                                                                                                                                                                                                                                                                                                                                                                                                                                                                                                                                                                                                                                                                                                                                                                                          "
      ]
     },
     "execution_count": 15,
     "metadata": {},
     "output_type": "execute_result"
    }
   ],
   "source": [
    "df.head()"
   ]
  },
  {
   "cell_type": "code",
   "execution_count": null,
   "metadata": {},
   "outputs": [],
   "source": []
  },
  {
   "cell_type": "code",
   "execution_count": null,
   "metadata": {},
   "outputs": [],
   "source": []
  }
 ],
 "metadata": {
  "kernelspec": {
   "display_name": "Python 3",
   "language": "python",
   "name": "python3"
  },
  "language_info": {
   "codemirror_mode": {
    "name": "ipython",
    "version": 3
   },
   "file_extension": ".py",
   "mimetype": "text/x-python",
   "name": "python",
   "nbconvert_exporter": "python",
   "pygments_lexer": "ipython3",
   "version": "3.6.5"
  }
 },
 "nbformat": 4,
 "nbformat_minor": 2
}
