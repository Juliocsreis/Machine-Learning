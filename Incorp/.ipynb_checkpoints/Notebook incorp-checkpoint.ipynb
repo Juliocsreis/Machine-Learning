{
 "cells": [
  {
   "cell_type": "markdown",
   "metadata": {},
   "source": [
    "## Incorp\n"
   ]
  },
  {
   "cell_type": "markdown",
   "metadata": {},
   "source": [
    "Objetivo: Saber qual são os melhores locais para lançar produtos e o que lançar, tipo do produto.\n",
    "Principais indicadores até agora: \n",
    "R$/m2 para ter uma noção de lucro\n",
    "VSO para saber sobre aceitação do produto e demanda x oferta"
   ]
  },
  {
   "cell_type": "markdown",
   "metadata": {},
   "source": [
    "Imports:"
   ]
  },
  {
   "cell_type": "code",
   "execution_count": 1,
   "metadata": {},
   "outputs": [],
   "source": [
    "import pandas as pd\n",
    "from matplotlib import pyplot as plt\n",
    "import numpy as np\n",
    "import seaborn as sns"
   ]
  },
  {
   "cell_type": "code",
   "execution_count": 2,
   "metadata": {},
   "outputs": [],
   "source": [
    "df = pd.read_csv('data/pesquisa.csv', sep=';')\n"
   ]
  },
  {
   "cell_type": "code",
   "execution_count": 3,
   "metadata": {},
   "outputs": [
    {
     "data": {
      "text/html": [
       "<div>\n",
       "<style scoped>\n",
       "    .dataframe tbody tr th:only-of-type {\n",
       "        vertical-align: middle;\n",
       "    }\n",
       "\n",
       "    .dataframe tbody tr th {\n",
       "        vertical-align: top;\n",
       "    }\n",
       "\n",
       "    .dataframe thead th {\n",
       "        text-align: right;\n",
       "    }\n",
       "</style>\n",
       "<table border=\"1\" class=\"dataframe\">\n",
       "  <thead>\n",
       "    <tr style=\"text-align: right;\">\n",
       "      <th></th>\n",
       "      <th>RGI</th>\n",
       "      <th>Código no Mapa</th>\n",
       "      <th>Empreendimento</th>\n",
       "      <th>Edifício</th>\n",
       "      <th>Zona de Valor</th>\n",
       "      <th>Endereço</th>\n",
       "      <th>Bairro</th>\n",
       "      <th>Distrito</th>\n",
       "      <th>Região</th>\n",
       "      <th>Cidade</th>\n",
       "      <th>...</th>\n",
       "      <th>% Unidades Vendidas</th>\n",
       "      <th>% Unidades a Vender</th>\n",
       "      <th>Unidades Vendidas</th>\n",
       "      <th>Qtd em Estoque</th>\n",
       "      <th>VGV</th>\n",
       "      <th>Modalidade</th>\n",
       "      <th>Banco.1</th>\n",
       "      <th>Condições de pagamento</th>\n",
       "      <th>Responsabilidade do Comprador</th>\n",
       "      <th>Data Pesquisa</th>\n",
       "    </tr>\n",
       "  </thead>\n",
       "  <tbody>\n",
       "    <tr>\n",
       "      <th>0</th>\n",
       "      <td>311661117.0</td>\n",
       "      <td>1.0</td>\n",
       "      <td>AF ESPLENDORE</td>\n",
       "      <td>NaN</td>\n",
       "      <td>SOROCABA - SP</td>\n",
       "      <td>R AMERICO BRASILIENSE. 426</td>\n",
       "      <td>VILA HARO</td>\n",
       "      <td>SEM DISTRITO</td>\n",
       "      <td>NaN</td>\n",
       "      <td>SOROCABA</td>\n",
       "      <td>...</td>\n",
       "      <td>37.5</td>\n",
       "      <td>62.5</td>\n",
       "      <td>15.0</td>\n",
       "      <td>25.0</td>\n",
       "      <td>8290040.0</td>\n",
       "      <td>Preço Fechado</td>\n",
       "      <td>NaN</td>\n",
       "      <td>NaN</td>\n",
       "      <td>NaN</td>\n",
       "      <td>43349.0</td>\n",
       "    </tr>\n",
       "    <tr>\n",
       "      <th>1</th>\n",
       "      <td>311661117.0</td>\n",
       "      <td>1.0</td>\n",
       "      <td>AF ESPLENDORE</td>\n",
       "      <td>NaN</td>\n",
       "      <td>SOROCABA - SP</td>\n",
       "      <td>R AMERICO BRASILIENSE. 426</td>\n",
       "      <td>VILA HARO</td>\n",
       "      <td>SEM DISTRITO</td>\n",
       "      <td>NaN</td>\n",
       "      <td>SOROCABA</td>\n",
       "      <td>...</td>\n",
       "      <td>0.0</td>\n",
       "      <td>100.0</td>\n",
       "      <td>0.0</td>\n",
       "      <td>4.0</td>\n",
       "      <td>733200.0</td>\n",
       "      <td>Preço Fechado</td>\n",
       "      <td>NaN</td>\n",
       "      <td>NaN</td>\n",
       "      <td>NaN</td>\n",
       "      <td>43349.0</td>\n",
       "    </tr>\n",
       "    <tr>\n",
       "      <th>2</th>\n",
       "      <td>324011015.0</td>\n",
       "      <td>2.0</td>\n",
       "      <td>ALICE RESIDENCIAL</td>\n",
       "      <td>NaN</td>\n",
       "      <td>SOROCABA - SP</td>\n",
       "      <td>R JOAO CORDEIRO. 255</td>\n",
       "      <td>VILA PROGRESSO</td>\n",
       "      <td>SEM DISTRITO</td>\n",
       "      <td>NaN</td>\n",
       "      <td>SOROCABA</td>\n",
       "      <td>...</td>\n",
       "      <td>100.0</td>\n",
       "      <td>0.0</td>\n",
       "      <td>10.0</td>\n",
       "      <td>0.0</td>\n",
       "      <td>2355100.0</td>\n",
       "      <td>Preço Fechado</td>\n",
       "      <td>NaN</td>\n",
       "      <td>NaN</td>\n",
       "      <td>NaN</td>\n",
       "      <td>43174.0</td>\n",
       "    </tr>\n",
       "    <tr>\n",
       "      <th>3</th>\n",
       "      <td>324011015.0</td>\n",
       "      <td>2.0</td>\n",
       "      <td>ALICE RESIDENCIAL</td>\n",
       "      <td>NaN</td>\n",
       "      <td>SOROCABA - SP</td>\n",
       "      <td>R JOAO CORDEIRO. 255</td>\n",
       "      <td>VILA PROGRESSO</td>\n",
       "      <td>SEM DISTRITO</td>\n",
       "      <td>NaN</td>\n",
       "      <td>SOROCABA</td>\n",
       "      <td>...</td>\n",
       "      <td>100.0</td>\n",
       "      <td>0.0</td>\n",
       "      <td>10.0</td>\n",
       "      <td>0.0</td>\n",
       "      <td>2631100.0</td>\n",
       "      <td>Preço Fechado</td>\n",
       "      <td>NaN</td>\n",
       "      <td>NaN</td>\n",
       "      <td>NaN</td>\n",
       "      <td>43069.0</td>\n",
       "    </tr>\n",
       "    <tr>\n",
       "      <th>4</th>\n",
       "      <td>36231716.0</td>\n",
       "      <td>3.0</td>\n",
       "      <td>ALTOS DO PACO</td>\n",
       "      <td>NaN</td>\n",
       "      <td>SOROCABA - SP</td>\n",
       "      <td>R JOSE RUSCONI FRANCISCO. 150</td>\n",
       "      <td>JARDIM DO PACO</td>\n",
       "      <td>SEM DISTRITO</td>\n",
       "      <td>NaN</td>\n",
       "      <td>SOROCABA</td>\n",
       "      <td>...</td>\n",
       "      <td>75.0</td>\n",
       "      <td>25.0</td>\n",
       "      <td>18.0</td>\n",
       "      <td>6.0</td>\n",
       "      <td>5880000.0</td>\n",
       "      <td>Preço de Custo</td>\n",
       "      <td>NaN</td>\n",
       "      <td>NaN</td>\n",
       "      <td>NaN</td>\n",
       "      <td>43361.0</td>\n",
       "    </tr>\n",
       "  </tbody>\n",
       "</table>\n",
       "<p>5 rows × 73 columns</p>\n",
       "</div>"
      ],
      "text/plain": [
       "           RGI  Código no Mapa     Empreendimento Edifício  Zona de Valor  \\\n",
       "0  311661117.0             1.0      AF ESPLENDORE      NaN  SOROCABA - SP   \n",
       "1  311661117.0             1.0      AF ESPLENDORE      NaN  SOROCABA - SP   \n",
       "2  324011015.0             2.0  ALICE RESIDENCIAL      NaN  SOROCABA - SP   \n",
       "3  324011015.0             2.0  ALICE RESIDENCIAL      NaN  SOROCABA - SP   \n",
       "4   36231716.0             3.0      ALTOS DO PACO      NaN  SOROCABA - SP   \n",
       "\n",
       "                        Endereço          Bairro      Distrito Região  \\\n",
       "0     R AMERICO BRASILIENSE. 426       VILA HARO  SEM DISTRITO    NaN   \n",
       "1     R AMERICO BRASILIENSE. 426       VILA HARO  SEM DISTRITO    NaN   \n",
       "2           R JOAO CORDEIRO. 255  VILA PROGRESSO  SEM DISTRITO    NaN   \n",
       "3           R JOAO CORDEIRO. 255  VILA PROGRESSO  SEM DISTRITO    NaN   \n",
       "4  R JOSE RUSCONI FRANCISCO. 150  JARDIM DO PACO  SEM DISTRITO    NaN   \n",
       "\n",
       "     Cidade      ...      % Unidades Vendidas % Unidades a Vender  \\\n",
       "0  SOROCABA      ...                     37.5                62.5   \n",
       "1  SOROCABA      ...                      0.0               100.0   \n",
       "2  SOROCABA      ...                    100.0                 0.0   \n",
       "3  SOROCABA      ...                    100.0                 0.0   \n",
       "4  SOROCABA      ...                     75.0                25.0   \n",
       "\n",
       "  Unidades Vendidas  Qtd em Estoque        VGV      Modalidade  Banco.1  \\\n",
       "0              15.0            25.0  8290040.0   Preço Fechado      NaN   \n",
       "1               0.0             4.0   733200.0   Preço Fechado      NaN   \n",
       "2              10.0             0.0  2355100.0   Preço Fechado      NaN   \n",
       "3              10.0             0.0  2631100.0   Preço Fechado      NaN   \n",
       "4              18.0             6.0  5880000.0  Preço de Custo      NaN   \n",
       "\n",
       "   Condições de pagamento  Responsabilidade do Comprador Data Pesquisa  \n",
       "0                     NaN                            NaN       43349.0  \n",
       "1                     NaN                            NaN       43349.0  \n",
       "2                     NaN                            NaN       43174.0  \n",
       "3                     NaN                            NaN       43069.0  \n",
       "4                     NaN                            NaN       43361.0  \n",
       "\n",
       "[5 rows x 73 columns]"
      ]
     },
     "execution_count": 3,
     "metadata": {},
     "output_type": "execute_result"
    }
   ],
   "source": [
    "df.head()"
   ]
  },
  {
   "cell_type": "code",
   "execution_count": 4,
   "metadata": {},
   "outputs": [
    {
     "data": {
      "text/plain": [
       "(378, 73)"
      ]
     },
     "execution_count": 4,
     "metadata": {},
     "output_type": "execute_result"
    }
   ],
   "source": [
    "df.shape"
   ]
  },
  {
   "cell_type": "code",
   "execution_count": 5,
   "metadata": {
    "scrolled": true
   },
   "outputs": [
    {
     "name": "stdout",
     "output_type": "stream",
     "text": [
      "<class 'pandas.core.frame.DataFrame'>\n",
      "RangeIndex: 378 entries, 0 to 377\n",
      "Data columns (total 73 columns):\n",
      "RGI                                                377 non-null float64\n",
      "Código no Mapa                                     377 non-null float64\n",
      "Empreendimento                                     377 non-null object\n",
      "Edifício                                           216 non-null object\n",
      "Zona de Valor                                      377 non-null object\n",
      "Endereço                                           377 non-null object\n",
      "Bairro                                             377 non-null object\n",
      "Distrito                                           377 non-null object\n",
      "Região                                             83 non-null object\n",
      "Cidade                                             377 non-null object\n",
      "UF                                                 377 non-null object\n",
      "CEP                                                377 non-null object\n",
      "Zoneamento                                         201 non-null object\n",
      "Setor                                              377 non-null float64\n",
      "Quadra                                             377 non-null float64\n",
      "Data Lançamento                                    378 non-null int64\n",
      "Data Entrega                                       378 non-null int64\n",
      "Data Ocupação                                      378 non-null int64\n",
      "Data Projeto Aprovado                              378 non-null int64\n",
      "Tipologia                                          377 non-null object\n",
      "Classificação do tipo                              350 non-null object\n",
      "Padrão                                             377 non-null object\n",
      "Status                                             377 non-null object\n",
      "Área Terreno                                       377 non-null float64\n",
      "Área Total Construída                              11 non-null float64\n",
      "Torres                                             377 non-null float64\n",
      "Nº de Elevadores                                   377 non-null float64\n",
      "Registro de Incorporação                           2 non-null object\n",
      "Infraestrutura                                     288 non-null object\n",
      "Grupo Incorporador Apelido                         377 non-null object\n",
      "Grupo Incorporador                                 377 non-null object\n",
      "Incorporadora 1                                    377 non-null object\n",
      "Incorporadora 2                                    5 non-null object\n",
      "Incorporadora 3                                    0 non-null float64\n",
      "Incorporadora 4                                    0 non-null float64\n",
      "Construtora 1                                      377 non-null object\n",
      "Construtora 2                                      4 non-null object\n",
      "Vendedora 1                                        377 non-null object\n",
      "Vendedora 2                                        46 non-null object\n",
      "Vendedora 3                                        2 non-null object\n",
      "Vendedora 4                                        0 non-null float64\n",
      "Banco                                              36 non-null object\n",
      "Unidade                                            377 non-null object\n",
      "Dormitórios                                        377 non-null float64\n",
      "Suítes                                             377 non-null float64\n",
      "Banheiros                                          377 non-null float64\n",
      "Nº Vagas                                           377 non-null float64\n",
      "Área Privativa                                     377 non-null float64\n",
      "Área Total                                         377 non-null float64\n",
      "Nº Total de Unidades                               377 non-null float64\n",
      "Nº Unidades por Pavimento                          377 non-null float64\n",
      "Nº de Pavimentos                                   377 non-null float64\n",
      "Valor do Dolar no lançamento                       377 non-null float64\n",
      "(VMU)Preço de venda da unidade no lançamento       377 non-null float64\n",
      "(VUV)Preço m2 privativo no lançamento              377 non-null float64\n",
      "(VMU)Preço de venda da unidade atualizado INCC     377 non-null float64\n",
      "(VUV)Preço m2 privativo atualizado INCC            377 non-null float64\n",
      "(VMU)Preço de venda da unidade atualizado IGPM     377 non-null float64\n",
      "(VUV)Preço m2 privativo atualizado IGPM            377 non-null float64\n",
      "(VMU)Preço de venda da unidade atualizado CUB      377 non-null float64\n",
      "(VUV)Preço m2 privativo atualizado CUB             377 non-null float64\n",
      "(VMU)Preço de venda da unidade na data pesquisa    377 non-null float64\n",
      "(VUV)Preço m2 privativo na data pesquisa           377 non-null float64\n",
      "% Unidades Vendidas                                377 non-null float64\n",
      "% Unidades a Vender                                377 non-null float64\n",
      "Unidades Vendidas                                  377 non-null float64\n",
      "Qtd em Estoque                                     377 non-null float64\n",
      "VGV                                                377 non-null float64\n",
      "Modalidade                                         377 non-null object\n",
      "Banco.1                                            36 non-null object\n",
      "Condições de pagamento                             3 non-null object\n",
      "Responsabilidade do Comprador                      1 non-null object\n",
      "Data Pesquisa                                      377 non-null float64\n",
      "dtypes: float64(37), int64(4), object(32)\n",
      "memory usage: 215.7+ KB\n"
     ]
    }
   ],
   "source": [
    "df.info()"
   ]
  },
  {
   "cell_type": "markdown",
   "metadata": {},
   "source": [
    "# Copiando data frame"
   ]
  },
  {
   "cell_type": "code",
   "execution_count": 6,
   "metadata": {},
   "outputs": [],
   "source": [
    "df_c = df.copy()"
   ]
  },
  {
   "cell_type": "code",
   "execution_count": 7,
   "metadata": {
    "scrolled": true
   },
   "outputs": [
    {
     "name": "stdout",
     "output_type": "stream",
     "text": [
      "<class 'pandas.core.frame.DataFrame'>\n",
      "RangeIndex: 378 entries, 0 to 377\n",
      "Data columns (total 73 columns):\n",
      "RGI                                                377 non-null float64\n",
      "Código no Mapa                                     377 non-null float64\n",
      "Empreendimento                                     377 non-null object\n",
      "Edifício                                           216 non-null object\n",
      "Zona de Valor                                      377 non-null object\n",
      "Endereço                                           377 non-null object\n",
      "Bairro                                             377 non-null object\n",
      "Distrito                                           377 non-null object\n",
      "Região                                             83 non-null object\n",
      "Cidade                                             377 non-null object\n",
      "UF                                                 377 non-null object\n",
      "CEP                                                377 non-null object\n",
      "Zoneamento                                         201 non-null object\n",
      "Setor                                              377 non-null float64\n",
      "Quadra                                             377 non-null float64\n",
      "Data Lançamento                                    378 non-null int64\n",
      "Data Entrega                                       378 non-null int64\n",
      "Data Ocupação                                      378 non-null int64\n",
      "Data Projeto Aprovado                              378 non-null int64\n",
      "Tipologia                                          377 non-null object\n",
      "Classificação do tipo                              350 non-null object\n",
      "Padrão                                             377 non-null object\n",
      "Status                                             377 non-null object\n",
      "Área Terreno                                       377 non-null float64\n",
      "Área Total Construída                              11 non-null float64\n",
      "Torres                                             377 non-null float64\n",
      "Nº de Elevadores                                   377 non-null float64\n",
      "Registro de Incorporação                           2 non-null object\n",
      "Infraestrutura                                     288 non-null object\n",
      "Grupo Incorporador Apelido                         377 non-null object\n",
      "Grupo Incorporador                                 377 non-null object\n",
      "Incorporadora 1                                    377 non-null object\n",
      "Incorporadora 2                                    5 non-null object\n",
      "Incorporadora 3                                    0 non-null float64\n",
      "Incorporadora 4                                    0 non-null float64\n",
      "Construtora 1                                      377 non-null object\n",
      "Construtora 2                                      4 non-null object\n",
      "Vendedora 1                                        377 non-null object\n",
      "Vendedora 2                                        46 non-null object\n",
      "Vendedora 3                                        2 non-null object\n",
      "Vendedora 4                                        0 non-null float64\n",
      "Banco                                              36 non-null object\n",
      "Unidade                                            377 non-null object\n",
      "Dormitórios                                        377 non-null float64\n",
      "Suítes                                             377 non-null float64\n",
      "Banheiros                                          377 non-null float64\n",
      "Nº Vagas                                           377 non-null float64\n",
      "Área Privativa                                     377 non-null float64\n",
      "Área Total                                         377 non-null float64\n",
      "Nº Total de Unidades                               377 non-null float64\n",
      "Nº Unidades por Pavimento                          377 non-null float64\n",
      "Nº de Pavimentos                                   377 non-null float64\n",
      "Valor do Dolar no lançamento                       377 non-null float64\n",
      "(VMU)Preço de venda da unidade no lançamento       377 non-null float64\n",
      "(VUV)Preço m2 privativo no lançamento              377 non-null float64\n",
      "(VMU)Preço de venda da unidade atualizado INCC     377 non-null float64\n",
      "(VUV)Preço m2 privativo atualizado INCC            377 non-null float64\n",
      "(VMU)Preço de venda da unidade atualizado IGPM     377 non-null float64\n",
      "(VUV)Preço m2 privativo atualizado IGPM            377 non-null float64\n",
      "(VMU)Preço de venda da unidade atualizado CUB      377 non-null float64\n",
      "(VUV)Preço m2 privativo atualizado CUB             377 non-null float64\n",
      "(VMU)Preço de venda da unidade na data pesquisa    377 non-null float64\n",
      "(VUV)Preço m2 privativo na data pesquisa           377 non-null float64\n",
      "% Unidades Vendidas                                377 non-null float64\n",
      "% Unidades a Vender                                377 non-null float64\n",
      "Unidades Vendidas                                  377 non-null float64\n",
      "Qtd em Estoque                                     377 non-null float64\n",
      "VGV                                                377 non-null float64\n",
      "Modalidade                                         377 non-null object\n",
      "Banco.1                                            36 non-null object\n",
      "Condições de pagamento                             3 non-null object\n",
      "Responsabilidade do Comprador                      1 non-null object\n",
      "Data Pesquisa                                      377 non-null float64\n",
      "dtypes: float64(37), int64(4), object(32)\n",
      "memory usage: 215.7+ KB\n"
     ]
    }
   ],
   "source": [
    "df_c.info()"
   ]
  },
  {
   "cell_type": "code",
   "execution_count": 8,
   "metadata": {},
   "outputs": [
    {
     "data": {
      "text/html": [
       "<div>\n",
       "<style scoped>\n",
       "    .dataframe tbody tr th:only-of-type {\n",
       "        vertical-align: middle;\n",
       "    }\n",
       "\n",
       "    .dataframe tbody tr th {\n",
       "        vertical-align: top;\n",
       "    }\n",
       "\n",
       "    .dataframe thead th {\n",
       "        text-align: right;\n",
       "    }\n",
       "</style>\n",
       "<table border=\"1\" class=\"dataframe\">\n",
       "  <thead>\n",
       "    <tr style=\"text-align: right;\">\n",
       "      <th></th>\n",
       "      <th>RGI</th>\n",
       "      <th>Código no Mapa</th>\n",
       "      <th>Empreendimento</th>\n",
       "      <th>Edifício</th>\n",
       "      <th>Zona de Valor</th>\n",
       "      <th>Endereço</th>\n",
       "      <th>Bairro</th>\n",
       "      <th>Distrito</th>\n",
       "      <th>Região</th>\n",
       "      <th>Cidade</th>\n",
       "      <th>...</th>\n",
       "      <th>% Unidades Vendidas</th>\n",
       "      <th>% Unidades a Vender</th>\n",
       "      <th>Unidades Vendidas</th>\n",
       "      <th>Qtd em Estoque</th>\n",
       "      <th>VGV</th>\n",
       "      <th>Modalidade</th>\n",
       "      <th>Banco.1</th>\n",
       "      <th>Condições de pagamento</th>\n",
       "      <th>Responsabilidade do Comprador</th>\n",
       "      <th>Data Pesquisa</th>\n",
       "    </tr>\n",
       "  </thead>\n",
       "  <tbody>\n",
       "    <tr>\n",
       "      <th>0</th>\n",
       "      <td>311661117.0</td>\n",
       "      <td>1.0</td>\n",
       "      <td>AF ESPLENDORE</td>\n",
       "      <td>NaN</td>\n",
       "      <td>SOROCABA - SP</td>\n",
       "      <td>R AMERICO BRASILIENSE. 426</td>\n",
       "      <td>VILA HARO</td>\n",
       "      <td>SEM DISTRITO</td>\n",
       "      <td>NaN</td>\n",
       "      <td>SOROCABA</td>\n",
       "      <td>...</td>\n",
       "      <td>37.5</td>\n",
       "      <td>62.5</td>\n",
       "      <td>15.0</td>\n",
       "      <td>25.0</td>\n",
       "      <td>8290040.0</td>\n",
       "      <td>Preço Fechado</td>\n",
       "      <td>NaN</td>\n",
       "      <td>NaN</td>\n",
       "      <td>NaN</td>\n",
       "      <td>43349.0</td>\n",
       "    </tr>\n",
       "    <tr>\n",
       "      <th>1</th>\n",
       "      <td>311661117.0</td>\n",
       "      <td>1.0</td>\n",
       "      <td>AF ESPLENDORE</td>\n",
       "      <td>NaN</td>\n",
       "      <td>SOROCABA - SP</td>\n",
       "      <td>R AMERICO BRASILIENSE. 426</td>\n",
       "      <td>VILA HARO</td>\n",
       "      <td>SEM DISTRITO</td>\n",
       "      <td>NaN</td>\n",
       "      <td>SOROCABA</td>\n",
       "      <td>...</td>\n",
       "      <td>0.0</td>\n",
       "      <td>100.0</td>\n",
       "      <td>0.0</td>\n",
       "      <td>4.0</td>\n",
       "      <td>733200.0</td>\n",
       "      <td>Preço Fechado</td>\n",
       "      <td>NaN</td>\n",
       "      <td>NaN</td>\n",
       "      <td>NaN</td>\n",
       "      <td>43349.0</td>\n",
       "    </tr>\n",
       "    <tr>\n",
       "      <th>2</th>\n",
       "      <td>324011015.0</td>\n",
       "      <td>2.0</td>\n",
       "      <td>ALICE RESIDENCIAL</td>\n",
       "      <td>NaN</td>\n",
       "      <td>SOROCABA - SP</td>\n",
       "      <td>R JOAO CORDEIRO. 255</td>\n",
       "      <td>VILA PROGRESSO</td>\n",
       "      <td>SEM DISTRITO</td>\n",
       "      <td>NaN</td>\n",
       "      <td>SOROCABA</td>\n",
       "      <td>...</td>\n",
       "      <td>100.0</td>\n",
       "      <td>0.0</td>\n",
       "      <td>10.0</td>\n",
       "      <td>0.0</td>\n",
       "      <td>2355100.0</td>\n",
       "      <td>Preço Fechado</td>\n",
       "      <td>NaN</td>\n",
       "      <td>NaN</td>\n",
       "      <td>NaN</td>\n",
       "      <td>43174.0</td>\n",
       "    </tr>\n",
       "    <tr>\n",
       "      <th>3</th>\n",
       "      <td>324011015.0</td>\n",
       "      <td>2.0</td>\n",
       "      <td>ALICE RESIDENCIAL</td>\n",
       "      <td>NaN</td>\n",
       "      <td>SOROCABA - SP</td>\n",
       "      <td>R JOAO CORDEIRO. 255</td>\n",
       "      <td>VILA PROGRESSO</td>\n",
       "      <td>SEM DISTRITO</td>\n",
       "      <td>NaN</td>\n",
       "      <td>SOROCABA</td>\n",
       "      <td>...</td>\n",
       "      <td>100.0</td>\n",
       "      <td>0.0</td>\n",
       "      <td>10.0</td>\n",
       "      <td>0.0</td>\n",
       "      <td>2631100.0</td>\n",
       "      <td>Preço Fechado</td>\n",
       "      <td>NaN</td>\n",
       "      <td>NaN</td>\n",
       "      <td>NaN</td>\n",
       "      <td>43069.0</td>\n",
       "    </tr>\n",
       "    <tr>\n",
       "      <th>4</th>\n",
       "      <td>36231716.0</td>\n",
       "      <td>3.0</td>\n",
       "      <td>ALTOS DO PACO</td>\n",
       "      <td>NaN</td>\n",
       "      <td>SOROCABA - SP</td>\n",
       "      <td>R JOSE RUSCONI FRANCISCO. 150</td>\n",
       "      <td>JARDIM DO PACO</td>\n",
       "      <td>SEM DISTRITO</td>\n",
       "      <td>NaN</td>\n",
       "      <td>SOROCABA</td>\n",
       "      <td>...</td>\n",
       "      <td>75.0</td>\n",
       "      <td>25.0</td>\n",
       "      <td>18.0</td>\n",
       "      <td>6.0</td>\n",
       "      <td>5880000.0</td>\n",
       "      <td>Preço de Custo</td>\n",
       "      <td>NaN</td>\n",
       "      <td>NaN</td>\n",
       "      <td>NaN</td>\n",
       "      <td>43361.0</td>\n",
       "    </tr>\n",
       "  </tbody>\n",
       "</table>\n",
       "<p>5 rows × 73 columns</p>\n",
       "</div>"
      ],
      "text/plain": [
       "           RGI  Código no Mapa     Empreendimento Edifício  Zona de Valor  \\\n",
       "0  311661117.0             1.0      AF ESPLENDORE      NaN  SOROCABA - SP   \n",
       "1  311661117.0             1.0      AF ESPLENDORE      NaN  SOROCABA - SP   \n",
       "2  324011015.0             2.0  ALICE RESIDENCIAL      NaN  SOROCABA - SP   \n",
       "3  324011015.0             2.0  ALICE RESIDENCIAL      NaN  SOROCABA - SP   \n",
       "4   36231716.0             3.0      ALTOS DO PACO      NaN  SOROCABA - SP   \n",
       "\n",
       "                        Endereço          Bairro      Distrito Região  \\\n",
       "0     R AMERICO BRASILIENSE. 426       VILA HARO  SEM DISTRITO    NaN   \n",
       "1     R AMERICO BRASILIENSE. 426       VILA HARO  SEM DISTRITO    NaN   \n",
       "2           R JOAO CORDEIRO. 255  VILA PROGRESSO  SEM DISTRITO    NaN   \n",
       "3           R JOAO CORDEIRO. 255  VILA PROGRESSO  SEM DISTRITO    NaN   \n",
       "4  R JOSE RUSCONI FRANCISCO. 150  JARDIM DO PACO  SEM DISTRITO    NaN   \n",
       "\n",
       "     Cidade      ...      % Unidades Vendidas % Unidades a Vender  \\\n",
       "0  SOROCABA      ...                     37.5                62.5   \n",
       "1  SOROCABA      ...                      0.0               100.0   \n",
       "2  SOROCABA      ...                    100.0                 0.0   \n",
       "3  SOROCABA      ...                    100.0                 0.0   \n",
       "4  SOROCABA      ...                     75.0                25.0   \n",
       "\n",
       "  Unidades Vendidas  Qtd em Estoque        VGV      Modalidade  Banco.1  \\\n",
       "0              15.0            25.0  8290040.0   Preço Fechado      NaN   \n",
       "1               0.0             4.0   733200.0   Preço Fechado      NaN   \n",
       "2              10.0             0.0  2355100.0   Preço Fechado      NaN   \n",
       "3              10.0             0.0  2631100.0   Preço Fechado      NaN   \n",
       "4              18.0             6.0  5880000.0  Preço de Custo      NaN   \n",
       "\n",
       "   Condições de pagamento  Responsabilidade do Comprador Data Pesquisa  \n",
       "0                     NaN                            NaN       43349.0  \n",
       "1                     NaN                            NaN       43349.0  \n",
       "2                     NaN                            NaN       43174.0  \n",
       "3                     NaN                            NaN       43069.0  \n",
       "4                     NaN                            NaN       43361.0  \n",
       "\n",
       "[5 rows x 73 columns]"
      ]
     },
     "execution_count": 8,
     "metadata": {},
     "output_type": "execute_result"
    }
   ],
   "source": [
    "df_c.head()"
   ]
  },
  {
   "cell_type": "markdown",
   "metadata": {},
   "source": [
    "# Preenchendo NaN"
   ]
  },
  {
   "cell_type": "code",
   "execution_count": 9,
   "metadata": {},
   "outputs": [],
   "source": [
    "df_c['Edifício']= df_c['Edifício'].fillna(value='edificio')"
   ]
  },
  {
   "cell_type": "code",
   "execution_count": 10,
   "metadata": {},
   "outputs": [],
   "source": [
    "df_c['Região']=df_c['Região'].fillna(value='Região')"
   ]
  },
  {
   "cell_type": "code",
   "execution_count": 11,
   "metadata": {},
   "outputs": [],
   "source": [
    "df_c['Zoneamento']=df_c['Zoneamento'].fillna(value='Zoneamento')"
   ]
  },
  {
   "cell_type": "code",
   "execution_count": 12,
   "metadata": {},
   "outputs": [],
   "source": [
    "df_c['Classificação do tipo'] = df_c['Classificação do tipo'].fillna(value='Classificação do tipo') "
   ]
  },
  {
   "cell_type": "code",
   "execution_count": 13,
   "metadata": {},
   "outputs": [],
   "source": [
    "df_c['Área Total Construída'] = df_c['Área Total Construída'].fillna(value=0)"
   ]
  },
  {
   "cell_type": "code",
   "execution_count": 14,
   "metadata": {},
   "outputs": [],
   "source": [
    "#drops a coluna Registro de incoporação já havia sido dropada, essa celula foi atualizada. RGI exite\n",
    "df_c = df_c.drop(['Incorporadora 3', 'Incorporadora 4', 'Vendedora 3', 'Vendedora 4'], axis=1)"
   ]
  },
  {
   "cell_type": "code",
   "execution_count": 15,
   "metadata": {},
   "outputs": [],
   "source": [
    "df_c['Infraestrutura'] = df_c['Infraestrutura'].fillna(value='Infraestrutura')"
   ]
  },
  {
   "cell_type": "code",
   "execution_count": 16,
   "metadata": {},
   "outputs": [],
   "source": [
    "df_c = df_c.drop(['Incorporadora 2', 'Construtora 2', 'Condições de pagamento', 'Responsabilidade do Comprador'], axis=1)"
   ]
  },
  {
   "cell_type": "code",
   "execution_count": 17,
   "metadata": {},
   "outputs": [],
   "source": [
    "df_c['Vendedora 2'] = df_c['Vendedora 2'].fillna(value='Vendedora 2')"
   ]
  },
  {
   "cell_type": "code",
   "execution_count": 18,
   "metadata": {},
   "outputs": [],
   "source": [
    "df_c['Banco'] = df_c['Banco'].fillna(value='Banco')"
   ]
  },
  {
   "cell_type": "code",
   "execution_count": 19,
   "metadata": {},
   "outputs": [],
   "source": [
    "df_c['Banco.1'] = df_c['Banco.1'].fillna(value='Banco')"
   ]
  },
  {
   "cell_type": "code",
   "execution_count": 20,
   "metadata": {
    "scrolled": true
   },
   "outputs": [
    {
     "name": "stdout",
     "output_type": "stream",
     "text": [
      "<class 'pandas.core.frame.DataFrame'>\n",
      "RangeIndex: 378 entries, 0 to 377\n",
      "Data columns (total 65 columns):\n",
      "RGI                                                377 non-null float64\n",
      "Código no Mapa                                     377 non-null float64\n",
      "Empreendimento                                     377 non-null object\n",
      "Edifício                                           378 non-null object\n",
      "Zona de Valor                                      377 non-null object\n",
      "Endereço                                           377 non-null object\n",
      "Bairro                                             377 non-null object\n",
      "Distrito                                           377 non-null object\n",
      "Região                                             378 non-null object\n",
      "Cidade                                             377 non-null object\n",
      "UF                                                 377 non-null object\n",
      "CEP                                                377 non-null object\n",
      "Zoneamento                                         378 non-null object\n",
      "Setor                                              377 non-null float64\n",
      "Quadra                                             377 non-null float64\n",
      "Data Lançamento                                    378 non-null int64\n",
      "Data Entrega                                       378 non-null int64\n",
      "Data Ocupação                                      378 non-null int64\n",
      "Data Projeto Aprovado                              378 non-null int64\n",
      "Tipologia                                          377 non-null object\n",
      "Classificação do tipo                              378 non-null object\n",
      "Padrão                                             377 non-null object\n",
      "Status                                             377 non-null object\n",
      "Área Terreno                                       377 non-null float64\n",
      "Área Total Construída                              378 non-null float64\n",
      "Torres                                             377 non-null float64\n",
      "Nº de Elevadores                                   377 non-null float64\n",
      "Registro de Incorporação                           2 non-null object\n",
      "Infraestrutura                                     378 non-null object\n",
      "Grupo Incorporador Apelido                         377 non-null object\n",
      "Grupo Incorporador                                 377 non-null object\n",
      "Incorporadora 1                                    377 non-null object\n",
      "Construtora 1                                      377 non-null object\n",
      "Vendedora 1                                        377 non-null object\n",
      "Vendedora 2                                        378 non-null object\n",
      "Banco                                              378 non-null object\n",
      "Unidade                                            377 non-null object\n",
      "Dormitórios                                        377 non-null float64\n",
      "Suítes                                             377 non-null float64\n",
      "Banheiros                                          377 non-null float64\n",
      "Nº Vagas                                           377 non-null float64\n",
      "Área Privativa                                     377 non-null float64\n",
      "Área Total                                         377 non-null float64\n",
      "Nº Total de Unidades                               377 non-null float64\n",
      "Nº Unidades por Pavimento                          377 non-null float64\n",
      "Nº de Pavimentos                                   377 non-null float64\n",
      "Valor do Dolar no lançamento                       377 non-null float64\n",
      "(VMU)Preço de venda da unidade no lançamento       377 non-null float64\n",
      "(VUV)Preço m2 privativo no lançamento              377 non-null float64\n",
      "(VMU)Preço de venda da unidade atualizado INCC     377 non-null float64\n",
      "(VUV)Preço m2 privativo atualizado INCC            377 non-null float64\n",
      "(VMU)Preço de venda da unidade atualizado IGPM     377 non-null float64\n",
      "(VUV)Preço m2 privativo atualizado IGPM            377 non-null float64\n",
      "(VMU)Preço de venda da unidade atualizado CUB      377 non-null float64\n",
      "(VUV)Preço m2 privativo atualizado CUB             377 non-null float64\n",
      "(VMU)Preço de venda da unidade na data pesquisa    377 non-null float64\n",
      "(VUV)Preço m2 privativo na data pesquisa           377 non-null float64\n",
      "% Unidades Vendidas                                377 non-null float64\n",
      "% Unidades a Vender                                377 non-null float64\n",
      "Unidades Vendidas                                  377 non-null float64\n",
      "Qtd em Estoque                                     377 non-null float64\n",
      "VGV                                                377 non-null float64\n",
      "Modalidade                                         377 non-null object\n",
      "Banco.1                                            378 non-null object\n",
      "Data Pesquisa                                      377 non-null float64\n",
      "dtypes: float64(34), int64(4), object(27)\n",
      "memory usage: 192.0+ KB\n"
     ]
    }
   ],
   "source": [
    "df_c.info()"
   ]
  },
  {
   "cell_type": "markdown",
   "metadata": {},
   "source": [
    "Agora vamos plotar os gráficos"
   ]
  },
  {
   "cell_type": "code",
   "execution_count": 21,
   "metadata": {},
   "outputs": [
    {
     "data": {
      "text/plain": [
       "count      377.000000\n",
       "mean      4061.274085\n",
       "std       2063.021548\n",
       "min        238.840000\n",
       "25%       3345.950000\n",
       "50%       3907.240000\n",
       "75%       4624.930000\n",
       "max      26799.040000\n",
       "Name: (VUV)Preço m2 privativo atualizado IGPM, dtype: float64"
      ]
     },
     "execution_count": 21,
     "metadata": {},
     "output_type": "execute_result"
    },
    {
     "data": {
      "image/png": "[encoded data removed]",
      "text/plain": [
       "<Figure size 432x288 with 1 Axes>"
      ]
     },
     "metadata": {
      "needs_background": "light"
     },
     "output_type": "display_data"
    }
   ],
   "source": [
    "sns.boxplot(df_c['(VUV)Preço m2 privativo atualizado IGPM'])\n",
    "df_c['(VUV)Preço m2 privativo atualizado IGPM'].describe()"
   ]
  },
  {
   "cell_type": "code",
   "execution_count": 22,
   "metadata": {
    "scrolled": true
   },
   "outputs": [],
   "source": [
    "features = list(df_c)"
   ]
  },
  {
   "cell_type": "code",
   "execution_count": 23,
   "metadata": {},
   "outputs": [
    {
     "data": {
      "text/plain": [
       "'Código no Mapa'"
      ]
     },
     "execution_count": 23,
     "metadata": {},
     "output_type": "execute_result"
    }
   ],
   "source": [
    "features[1]"
   ]
  },
  {
   "cell_type": "code",
   "execution_count": 24,
   "metadata": {},
   "outputs": [
    {
     "data": {
      "text/plain": [
       "65"
      ]
     },
     "execution_count": 24,
     "metadata": {},
     "output_type": "execute_result"
    }
   ],
   "source": [
    "(len(features))"
   ]
  },
  {
   "cell_type": "code",
   "execution_count": 25,
   "metadata": {},
   "outputs": [
    {
     "data": {
      "image/png": "[encoded data removed]",
      "text/plain": [
       "<Figure size 2520x2880 with 1 Axes>"
      ]
     },
     "metadata": {
      "needs_background": "light"
     },
     "output_type": "display_data"
    }
   ],
   "source": [
    "df_c.boxplot(figsize=(35,40))\n",
    "plt.show()"
   ]
  },
  {
   "cell_type": "code",
   "execution_count": 26,
   "metadata": {},
   "outputs": [
    {
     "data": {
      "image/png": "[encoded data removed]",
      "text/plain": [
       "<Figure size 2520x2880 with 42 Axes>"
      ]
     },
     "metadata": {
      "needs_background": "light"
     },
     "output_type": "display_data"
    }
   ],
   "source": [
    "df_c.hist(bins=20, figsize=(35,40))\n",
    "plt.show()"
   ]
  },
  {
   "cell_type": "code",
   "execution_count": 27,
   "metadata": {
    "scrolled": true
   },
   "outputs": [
    {
     "data": {
      "text/plain": [
       "0               AF ESPLENDORE\n",
       "1               AF ESPLENDORE\n",
       "2           ALICE RESIDENCIAL\n",
       "3           ALICE RESIDENCIAL\n",
       "4               ALTOS DO PACO\n",
       "5                    ALVORADA\n",
       "6                    ALVORADA\n",
       "7                    ALVORADA\n",
       "8                    ALVORADA\n",
       "9                    ALVORADA\n",
       "10                   ALVORADA\n",
       "11                   ARVOREDO\n",
       "12        ARVORES DA AMAZONIA\n",
       "13        ARVORES DA AMAZONIA\n",
       "14        ARVORES DA AMAZONIA\n",
       "15            ATELIE CAMPOLIM\n",
       "16                     ATRIUM\n",
       "17                     ATRIUM\n",
       "18                     ATRIUM\n",
       "19                    BEATRIZ\n",
       "20                  BEETHOVEN\n",
       "21                 BELISSIMUS\n",
       "22                 BELLA PARK\n",
       "23                 BELLA PARK\n",
       "24                BELLA VILLE\n",
       "25                BELLA VILLE\n",
       "26      BLUE AFONSO VERGUEIRO\n",
       "27      BLUE AFONSO VERGUEIRO\n",
       "28          BOSQUE DE CORDOBA\n",
       "29           BOSQUE DE MADRID\n",
       "                ...          \n",
       "348       VILLAGE MONTE VERDE\n",
       "349       VILLAGGIO DI VENETO\n",
       "350       VILLAGGIO DI VENETO\n",
       "351       VILLAGGIO IPANEMA I\n",
       "352       VILLAGGIO IPANEMA I\n",
       "353    VILLAGIO DAS PAINEIRAS\n",
       "354         VILLAGIO FELICITA\n",
       "355     VILLAGIO PITANGUEIRAS\n",
       "356               VISTA VERDE\n",
       "357       VISTAS DE VERA CRUZ\n",
       "358         VISTAS DO ITAVUVU\n",
       "359           VITALLI BONELLI\n",
       "360           VITALLI BONELLI\n",
       "361           VITALLI BONELLI\n",
       "362                   VITORIA\n",
       "363         VITTORIO EMANUELE\n",
       "364                    VIVACE\n",
       "365                     VOLPI\n",
       "366               WANELL CLUB\n",
       "367               WANELL CLUB\n",
       "368               WANELL CLUB\n",
       "369               WANELL CLUB\n",
       "370       WAY COMPACT PREMIUM\n",
       "371                    WINNER\n",
       "372                    WINNER\n",
       "373                    WINNER\n",
       "374                  ZANQUETA\n",
       "375                  ZONCOLAN\n",
       "376                  ZONCOLAN\n",
       "377                       NaN\n",
       "Name: Empreendimento, Length: 378, dtype: object"
      ]
     },
     "execution_count": 27,
     "metadata": {},
     "output_type": "execute_result"
    }
   ],
   "source": [
    "df_c.iloc[:,2]"
   ]
  },
  {
   "cell_type": "code",
   "execution_count": 28,
   "metadata": {
    "scrolled": true
   },
   "outputs": [
    {
     "data": {
      "text/plain": [
       "LE MONDE CAMPOLIM           20\n",
       "PASSEO CONDOMINIO CLUB       7\n",
       "LA VISTA MONCAYO             6\n",
       "ALVORADA                     6\n",
       "TORRE ALPHA MANGAL           6\n",
       "SOLEIL DE QUEBEC             6\n",
       "DOC CAMPOLIM                 5\n",
       "FLOR DE ACACIA               4\n",
       "IMAGINE IPANEMA              4\n",
       "VANCOUVER                    4\n",
       "BOULEVARD IPANEMA            4\n",
       "WANELL CLUB                  4\n",
       "MONT ROYAL                   4\n",
       "JARDIM DAS TULIPAS           4\n",
       "NOTTING HILL                 3\n",
       "JK STUDIO                    3\n",
       "SAFIRA                       3\n",
       "VILLAGE MONTE VERDE          3\n",
       "LUNNA CAMPOLIN               3\n",
       "VILLA DE ESPANHA             3\n",
       "ILE NOTRE-DAME               3\n",
       "MONDIAL SOROCABA             3\n",
       "LEXUS TOWER                  3\n",
       "ATRIUM                       3\n",
       "EUROPA TOWER                 3\n",
       "PREMIERE                     3\n",
       "ARVORES DA AMAZONIA          3\n",
       "SPETTACOLO PATRIANI          3\n",
       "OLGA BOTANIQUE               3\n",
       "VITALLI BONELLI              3\n",
       "                            ..\n",
       "SMART ZONA NORTE             1\n",
       "PARQUE SERRA AZUL            1\n",
       "VILLAGE AMATO RESERVA        1\n",
       "ORQUIDEAS                    1\n",
       "PLAZA MAZON                  1\n",
       "JARDIM TULIPAS               1\n",
       "HORTO FLORESTAL VILLAGIO     1\n",
       "ESMERALDA                    1\n",
       "FAZENDA JEQUITIBA            1\n",
       "LINC SOROCABA                1\n",
       "JARDIM SANTA ESMERALDA       1\n",
       "TIRRENO RESIDENCES           1\n",
       "ILHAS GREGAS                 1\n",
       "FLOR DE IRACEMA              1\n",
       "ROSARIA MARTINS GALVES       1\n",
       "MORADA MORALES               1\n",
       "VILLA LUMIERE                1\n",
       "VILLA MAGGIORI               1\n",
       "PAMPULHA                     1\n",
       "MARIA FERNANDA               1\n",
       "SPAZIO SARTORI               1\n",
       "MARYIA                       1\n",
       "WAY COMPACT PREMIUM          1\n",
       "PALACIO SAN MARCO            1\n",
       "VITORIA                      1\n",
       "LUCAS HENRIQUE               1\n",
       "VISTA VERDE                  1\n",
       "VILA DO ARVOREDO             1\n",
       "VIVACE                       1\n",
       "VITTORIO EMANUELE            1\n",
       "Name: Empreendimento, Length: 207, dtype: int64"
      ]
     },
     "execution_count": 28,
     "metadata": {},
     "output_type": "execute_result"
    }
   ],
   "source": [
    "df_c['Empreendimento'].value_counts()"
   ]
  },
  {
   "cell_type": "markdown",
   "metadata": {},
   "source": [
    "## LEmbrar de normalizar as features, clusterizar"
   ]
  },
  {
   "cell_type": "markdown",
   "metadata": {},
   "source": [
    "# Separar por padrão Economico ? Economico e medio ?"
   ]
  },
  {
   "cell_type": "code",
   "execution_count": 29,
   "metadata": {},
   "outputs": [
    {
     "data": {
      "text/plain": [
       "<matplotlib.axes._subplots.AxesSubplot at 0xb2dacc0>"
      ]
     },
     "execution_count": 29,
     "metadata": {},
     "output_type": "execute_result"
    },
    {
     "data": {
      "image/png": "[encoded data removed]",
      "text/plain": [
       "<Figure size 1440x720 with 1 Axes>"
      ]
     },
     "metadata": {
      "needs_background": "light"
     },
     "output_type": "display_data"
    }
   ],
   "source": [
    "fig, ax = plt.subplots()\n",
    "fig.set_size_inches(20, 10)\n",
    "sns.countplot(x= df_c[\"Padrão\"])\n"
   ]
  },
  {
   "cell_type": "code",
   "execution_count": 30,
   "metadata": {},
   "outputs": [
    {
     "data": {
      "text/plain": [
       "PADRAO MEDIO-C/ELEVADOR       225\n",
       "PADRAO MEDIO-S/ELEVADOR       112\n",
       "PADRAO SUPERIOR-C/ELEVADOR     17\n",
       "PADRAO SIMPLES-S/ELEVADOR      10\n",
       "PADRAO SIMPLES-C/ELEVADOR       8\n",
       "PADRAO SUPERIOR-S/ELEVADOR      4\n",
       "NAO INFORMADO                   1\n",
       "Name: Padrão, dtype: int64"
      ]
     },
     "execution_count": 30,
     "metadata": {},
     "output_type": "execute_result"
    }
   ],
   "source": [
    "df_c[\"Padrão\"].value_counts()"
   ]
  },
  {
   "cell_type": "code",
   "execution_count": 31,
   "metadata": {},
   "outputs": [
    {
     "data": {
      "text/plain": [
       "(array([ 81.,  18.,   7.,   2.,   1.,   1.,   0.,   1.,   0.,   1.]),\n",
       " array([  1.,   4.,   7.,  10.,  13.,  16.,  19.,  22.,  25.,  28.,  31.]),\n",
       " <a list of 10 Patch objects>)"
      ]
     },
     "execution_count": 31,
     "metadata": {},
     "output_type": "execute_result"
    },
    {
     "data": {
      "image/png": "[encoded data removed]",
      "text/plain": [
       "<Figure size 432x288 with 1 Axes>"
      ]
     },
     "metadata": {
      "needs_background": "light"
     },
     "output_type": "display_data"
    }
   ],
   "source": [
    "plt.hist(x = df_c['Nº Total de Unidades'].value_counts(), bins=10)"
   ]
  },
  {
   "cell_type": "code",
   "execution_count": 32,
   "metadata": {},
   "outputs": [
    {
     "data": {
      "text/plain": [
       "count    112.000000\n",
       "mean       3.366071\n",
       "std        4.314224\n",
       "min        1.000000\n",
       "25%        1.000000\n",
       "50%        2.000000\n",
       "75%        4.000000\n",
       "max       31.000000\n",
       "Name: Nº Total de Unidades, dtype: float64"
      ]
     },
     "execution_count": 32,
     "metadata": {},
     "output_type": "execute_result"
    }
   ],
   "source": [
    "df_c['Nº Total de Unidades'].value_counts().describe()"
   ]
  },
  {
   "cell_type": "markdown",
   "metadata": {},
   "source": [
    "# Entrando com série Histórica (será preciso fazer feature engineering para ter um VSO descente)"
   ]
  },
  {
   "cell_type": "code",
   "execution_count": 33,
   "metadata": {},
   "outputs": [],
   "source": [
    "df_h = pd.read_csv('data/serie historica.csv', sep= ';')"
   ]
  },
  {
   "cell_type": "code",
   "execution_count": 34,
   "metadata": {},
   "outputs": [
    {
     "data": {
      "text/html": [
       "<div>\n",
       "<style scoped>\n",
       "    .dataframe tbody tr th:only-of-type {\n",
       "        vertical-align: middle;\n",
       "    }\n",
       "\n",
       "    .dataframe tbody tr th {\n",
       "        vertical-align: top;\n",
       "    }\n",
       "\n",
       "    .dataframe thead th {\n",
       "        text-align: right;\n",
       "    }\n",
       "</style>\n",
       "<table border=\"1\" class=\"dataframe\">\n",
       "  <thead>\n",
       "    <tr style=\"text-align: right;\">\n",
       "      <th></th>\n",
       "      <th>RGI</th>\n",
       "      <th>(VMU)Preço de venda da unidade na data pesquisa</th>\n",
       "      <th>(VUV)Preço m2 privativo na data pesquisa</th>\n",
       "      <th>% Vendido no Intervalo</th>\n",
       "      <th>% Valorização</th>\n",
       "      <th>Unidades Vendidas no Intervalo</th>\n",
       "      <th>Intervalo em Mêses</th>\n",
       "      <th>% Unidades Vendidas</th>\n",
       "      <th>% Unidades a Vender</th>\n",
       "      <th>Unidades Vendidas</th>\n",
       "      <th>Qtd em Estoque</th>\n",
       "      <th>Data Pesquisa</th>\n",
       "    </tr>\n",
       "  </thead>\n",
       "  <tbody>\n",
       "    <tr>\n",
       "      <th>0</th>\n",
       "      <td>8918</td>\n",
       "      <td>190300</td>\n",
       "      <td>3558.339566</td>\n",
       "      <td>0.0769</td>\n",
       "      <td>0.000000</td>\n",
       "      <td>2</td>\n",
       "      <td>-5</td>\n",
       "      <td>0.0769</td>\n",
       "      <td>0.9231</td>\n",
       "      <td>2</td>\n",
       "      <td>24</td>\n",
       "      <td>06/08/2015</td>\n",
       "    </tr>\n",
       "    <tr>\n",
       "      <th>1</th>\n",
       "      <td>8918</td>\n",
       "      <td>190300</td>\n",
       "      <td>3558.339566</td>\n",
       "      <td>0.0769</td>\n",
       "      <td>0.000000</td>\n",
       "      <td>2</td>\n",
       "      <td>-5</td>\n",
       "      <td>0.0769</td>\n",
       "      <td>0.9231</td>\n",
       "      <td>2</td>\n",
       "      <td>24</td>\n",
       "      <td>06/08/2015</td>\n",
       "    </tr>\n",
       "    <tr>\n",
       "      <th>2</th>\n",
       "      <td>8918</td>\n",
       "      <td>190300</td>\n",
       "      <td>3558.339566</td>\n",
       "      <td>0.1538</td>\n",
       "      <td>0.000000</td>\n",
       "      <td>4</td>\n",
       "      <td>-66</td>\n",
       "      <td>0.1538</td>\n",
       "      <td>0.8462</td>\n",
       "      <td>4</td>\n",
       "      <td>22</td>\n",
       "      <td>06/10/2015</td>\n",
       "    </tr>\n",
       "    <tr>\n",
       "      <th>3</th>\n",
       "      <td>8918</td>\n",
       "      <td>190300</td>\n",
       "      <td>3558.339566</td>\n",
       "      <td>0.1538</td>\n",
       "      <td>0.000000</td>\n",
       "      <td>4</td>\n",
       "      <td>-66</td>\n",
       "      <td>0.1538</td>\n",
       "      <td>0.8462</td>\n",
       "      <td>4</td>\n",
       "      <td>22</td>\n",
       "      <td>06/10/2015</td>\n",
       "    </tr>\n",
       "    <tr>\n",
       "      <th>4</th>\n",
       "      <td>8918</td>\n",
       "      <td>194200</td>\n",
       "      <td>3631.264024</td>\n",
       "      <td>0.1538</td>\n",
       "      <td>0.020494</td>\n",
       "      <td>4</td>\n",
       "      <td>-124</td>\n",
       "      <td>0.1538</td>\n",
       "      <td>0.8462</td>\n",
       "      <td>4</td>\n",
       "      <td>22</td>\n",
       "      <td>03/12/2015</td>\n",
       "    </tr>\n",
       "  </tbody>\n",
       "</table>\n",
       "</div>"
      ],
      "text/plain": [
       "    RGI  (VMU)Preço de venda da unidade na data pesquisa  \\\n",
       "0  8918                                           190300   \n",
       "1  8918                                           190300   \n",
       "2  8918                                           190300   \n",
       "3  8918                                           190300   \n",
       "4  8918                                           194200   \n",
       "\n",
       "   (VUV)Preço m2 privativo na data pesquisa  % Vendido no Intervalo  \\\n",
       "0                               3558.339566                  0.0769   \n",
       "1                               3558.339566                  0.0769   \n",
       "2                               3558.339566                  0.1538   \n",
       "3                               3558.339566                  0.1538   \n",
       "4                               3631.264024                  0.1538   \n",
       "\n",
       "   % Valorização  Unidades Vendidas no Intervalo  Intervalo em Mêses  \\\n",
       "0       0.000000                               2                  -5   \n",
       "1       0.000000                               2                  -5   \n",
       "2       0.000000                               4                 -66   \n",
       "3       0.000000                               4                 -66   \n",
       "4       0.020494                               4                -124   \n",
       "\n",
       "   % Unidades Vendidas  % Unidades a Vender  Unidades Vendidas  \\\n",
       "0               0.0769               0.9231                  2   \n",
       "1               0.0769               0.9231                  2   \n",
       "2               0.1538               0.8462                  4   \n",
       "3               0.1538               0.8462                  4   \n",
       "4               0.1538               0.8462                  4   \n",
       "\n",
       "   Qtd em Estoque Data Pesquisa  \n",
       "0              24    06/08/2015  \n",
       "1              24    06/08/2015  \n",
       "2              22    06/10/2015  \n",
       "3              22    06/10/2015  \n",
       "4              22    03/12/2015  "
      ]
     },
     "execution_count": 34,
     "metadata": {},
     "output_type": "execute_result"
    }
   ],
   "source": [
    "df_h.head()"
   ]
  },
  {
   "cell_type": "code",
   "execution_count": 35,
   "metadata": {},
   "outputs": [
    {
     "data": {
      "text/html": [
       "<div>\n",
       "<style scoped>\n",
       "    .dataframe tbody tr th:only-of-type {\n",
       "        vertical-align: middle;\n",
       "    }\n",
       "\n",
       "    .dataframe tbody tr th {\n",
       "        vertical-align: top;\n",
       "    }\n",
       "\n",
       "    .dataframe thead th {\n",
       "        text-align: right;\n",
       "    }\n",
       "</style>\n",
       "<table border=\"1\" class=\"dataframe\">\n",
       "  <thead>\n",
       "    <tr style=\"text-align: right;\">\n",
       "      <th></th>\n",
       "      <th>RGI</th>\n",
       "      <th>(VMU)Preço de venda da unidade na data pesquisa</th>\n",
       "      <th>(VUV)Preço m2 privativo na data pesquisa</th>\n",
       "      <th>% Vendido no Intervalo</th>\n",
       "      <th>% Valorização</th>\n",
       "      <th>Unidades Vendidas no Intervalo</th>\n",
       "      <th>Intervalo em Mêses</th>\n",
       "      <th>% Unidades Vendidas</th>\n",
       "      <th>% Unidades a Vender</th>\n",
       "      <th>Unidades Vendidas</th>\n",
       "      <th>Qtd em Estoque</th>\n",
       "    </tr>\n",
       "  </thead>\n",
       "  <tbody>\n",
       "    <tr>\n",
       "      <th>count</th>\n",
       "      <td>8411.000000</td>\n",
       "      <td>8.411000e+03</td>\n",
       "      <td>8411.000000</td>\n",
       "      <td>8411.000000</td>\n",
       "      <td>8411.000000</td>\n",
       "      <td>8411.000000</td>\n",
       "      <td>8411.000000</td>\n",
       "      <td>8411.000000</td>\n",
       "      <td>8411.000000</td>\n",
       "      <td>8411.000000</td>\n",
       "      <td>8411.000000</td>\n",
       "    </tr>\n",
       "    <tr>\n",
       "      <th>mean</th>\n",
       "      <td>26032.690168</td>\n",
       "      <td>3.162371e+05</td>\n",
       "      <td>3610.588208</td>\n",
       "      <td>0.557040</td>\n",
       "      <td>0.143871</td>\n",
       "      <td>18.710498</td>\n",
       "      <td>-591.459874</td>\n",
       "      <td>0.557040</td>\n",
       "      <td>0.425129</td>\n",
       "      <td>18.710498</td>\n",
       "      <td>12.989538</td>\n",
       "    </tr>\n",
       "    <tr>\n",
       "      <th>std</th>\n",
       "      <td>6656.588128</td>\n",
       "      <td>2.428554e+05</td>\n",
       "      <td>1118.365049</td>\n",
       "      <td>0.449326</td>\n",
       "      <td>0.154181</td>\n",
       "      <td>64.888407</td>\n",
       "      <td>426.911429</td>\n",
       "      <td>0.449326</td>\n",
       "      <td>0.446700</td>\n",
       "      <td>64.888407</td>\n",
       "      <td>55.046696</td>\n",
       "    </tr>\n",
       "    <tr>\n",
       "      <th>min</th>\n",
       "      <td>8918.000000</td>\n",
       "      <td>0.000000e+00</td>\n",
       "      <td>0.000000</td>\n",
       "      <td>0.000000</td>\n",
       "      <td>-1.000000</td>\n",
       "      <td>0.000000</td>\n",
       "      <td>-1947.000000</td>\n",
       "      <td>0.000000</td>\n",
       "      <td>-6.000000</td>\n",
       "      <td>0.000000</td>\n",
       "      <td>-25.000000</td>\n",
       "    </tr>\n",
       "    <tr>\n",
       "      <th>25%</th>\n",
       "      <td>24304.000000</td>\n",
       "      <td>1.530000e+05</td>\n",
       "      <td>3029.359431</td>\n",
       "      <td>0.200000</td>\n",
       "      <td>0.033924</td>\n",
       "      <td>1.000000</td>\n",
       "      <td>-871.000000</td>\n",
       "      <td>0.200000</td>\n",
       "      <td>0.083300</td>\n",
       "      <td>1.000000</td>\n",
       "      <td>1.000000</td>\n",
       "    </tr>\n",
       "    <tr>\n",
       "      <th>50%</th>\n",
       "      <td>25604.000000</td>\n",
       "      <td>2.100000e+05</td>\n",
       "      <td>3461.538462</td>\n",
       "      <td>0.590900</td>\n",
       "      <td>0.126425</td>\n",
       "      <td>7.000000</td>\n",
       "      <td>-521.000000</td>\n",
       "      <td>0.590900</td>\n",
       "      <td>0.394700</td>\n",
       "      <td>7.000000</td>\n",
       "      <td>3.000000</td>\n",
       "    </tr>\n",
       "    <tr>\n",
       "      <th>75%</th>\n",
       "      <td>30193.000000</td>\n",
       "      <td>4.382325e+05</td>\n",
       "      <td>4262.356700</td>\n",
       "      <td>0.888900</td>\n",
       "      <td>0.239862</td>\n",
       "      <td>22.000000</td>\n",
       "      <td>-244.000000</td>\n",
       "      <td>0.888900</td>\n",
       "      <td>0.750000</td>\n",
       "      <td>22.000000</td>\n",
       "      <td>14.000000</td>\n",
       "    </tr>\n",
       "    <tr>\n",
       "      <th>max</th>\n",
       "      <td>39205.000000</td>\n",
       "      <td>3.246000e+06</td>\n",
       "      <td>7634.782609</td>\n",
       "      <td>7.000000</td>\n",
       "      <td>1.195204</td>\n",
       "      <td>1833.000000</td>\n",
       "      <td>0.000000</td>\n",
       "      <td>7.000000</td>\n",
       "      <td>1.000000</td>\n",
       "      <td>1833.000000</td>\n",
       "      <td>2076.000000</td>\n",
       "    </tr>\n",
       "  </tbody>\n",
       "</table>\n",
       "</div>"
      ],
      "text/plain": [
       "                RGI  (VMU)Preço de venda da unidade na data pesquisa  \\\n",
       "count   8411.000000                                     8.411000e+03   \n",
       "mean   26032.690168                                     3.162371e+05   \n",
       "std     6656.588128                                     2.428554e+05   \n",
       "min     8918.000000                                     0.000000e+00   \n",
       "25%    24304.000000                                     1.530000e+05   \n",
       "50%    25604.000000                                     2.100000e+05   \n",
       "75%    30193.000000                                     4.382325e+05   \n",
       "max    39205.000000                                     3.246000e+06   \n",
       "\n",
       "       (VUV)Preço m2 privativo na data pesquisa  % Vendido no Intervalo  \\\n",
       "count                               8411.000000             8411.000000   \n",
       "mean                                3610.588208                0.557040   \n",
       "std                                 1118.365049                0.449326   \n",
       "min                                    0.000000                0.000000   \n",
       "25%                                 3029.359431                0.200000   \n",
       "50%                                 3461.538462                0.590900   \n",
       "75%                                 4262.356700                0.888900   \n",
       "max                                 7634.782609                7.000000   \n",
       "\n",
       "       % Valorização  Unidades Vendidas no Intervalo  Intervalo em Mêses  \\\n",
       "count    8411.000000                     8411.000000         8411.000000   \n",
       "mean        0.143871                       18.710498         -591.459874   \n",
       "std         0.154181                       64.888407          426.911429   \n",
       "min        -1.000000                        0.000000        -1947.000000   \n",
       "25%         0.033924                        1.000000         -871.000000   \n",
       "50%         0.126425                        7.000000         -521.000000   \n",
       "75%         0.239862                       22.000000         -244.000000   \n",
       "max         1.195204                     1833.000000            0.000000   \n",
       "\n",
       "       % Unidades Vendidas  % Unidades a Vender  Unidades Vendidas  \\\n",
       "count          8411.000000          8411.000000        8411.000000   \n",
       "mean              0.557040             0.425129          18.710498   \n",
       "std               0.449326             0.446700          64.888407   \n",
       "min               0.000000            -6.000000           0.000000   \n",
       "25%               0.200000             0.083300           1.000000   \n",
       "50%               0.590900             0.394700           7.000000   \n",
       "75%               0.888900             0.750000          22.000000   \n",
       "max               7.000000             1.000000        1833.000000   \n",
       "\n",
       "       Qtd em Estoque  \n",
       "count     8411.000000  \n",
       "mean        12.989538  \n",
       "std         55.046696  \n",
       "min        -25.000000  \n",
       "25%          1.000000  \n",
       "50%          3.000000  \n",
       "75%         14.000000  \n",
       "max       2076.000000  "
      ]
     },
     "execution_count": 35,
     "metadata": {},
     "output_type": "execute_result"
    }
   ],
   "source": [
    "df_h.describe()"
   ]
  },
  {
   "cell_type": "code",
   "execution_count": 36,
   "metadata": {},
   "outputs": [
    {
     "data": {
      "text/plain": [
       "Index(['RGI', '(VMU)Preço de venda da unidade na data pesquisa',\n",
       "       '(VUV)Preço m2 privativo na data pesquisa', '% Vendido no Intervalo',\n",
       "       '% Valorização', 'Unidades Vendidas no Intervalo', 'Intervalo em Mêses',\n",
       "       '% Unidades Vendidas', '% Unidades a Vender', 'Unidades Vendidas',\n",
       "       'Qtd em Estoque', 'Data Pesquisa'],\n",
       "      dtype='object')"
      ]
     },
     "execution_count": 36,
     "metadata": {},
     "output_type": "execute_result"
    }
   ],
   "source": [
    "df_h.columns"
   ]
  },
  {
   "cell_type": "code",
   "execution_count": 37,
   "metadata": {},
   "outputs": [
    {
     "name": "stdout",
     "output_type": "stream",
     "text": [
      "<class 'pandas.core.frame.DataFrame'>\n",
      "RangeIndex: 8411 entries, 0 to 8410\n",
      "Data columns (total 12 columns):\n",
      "RGI                                                8411 non-null int64\n",
      "(VMU)Preço de venda da unidade na data pesquisa    8411 non-null int64\n",
      "(VUV)Preço m2 privativo na data pesquisa           8411 non-null float64\n",
      "% Vendido no Intervalo                             8411 non-null float64\n",
      "% Valorização                                      8411 non-null float64\n",
      "Unidades Vendidas no Intervalo                     8411 non-null int64\n",
      "Intervalo em Mêses                                 8411 non-null int64\n",
      "% Unidades Vendidas                                8411 non-null float64\n",
      "% Unidades a Vender                                8411 non-null float64\n",
      "Unidades Vendidas                                  8411 non-null int64\n",
      "Qtd em Estoque                                     8411 non-null int64\n",
      "Data Pesquisa                                      8411 non-null object\n",
      "dtypes: float64(5), int64(6), object(1)\n",
      "memory usage: 788.6+ KB\n"
     ]
    }
   ],
   "source": [
    "df_h.info()"
   ]
  },
  {
   "cell_type": "code",
   "execution_count": 38,
   "metadata": {
    "scrolled": true
   },
   "outputs": [
    {
     "data": {
      "text/plain": [
       "0       06/08/2015\n",
       "1       06/08/2015\n",
       "2       06/10/2015\n",
       "3       06/10/2015\n",
       "4       03/12/2015\n",
       "5       03/12/2015\n",
       "6       15/02/2016\n",
       "7       15/02/2016\n",
       "8       23/03/2016\n",
       "9       23/03/2016\n",
       "10      19/04/2016\n",
       "11      19/04/2016\n",
       "12      18/05/2016\n",
       "13      18/05/2016\n",
       "14      29/06/2016\n",
       "15      29/06/2016\n",
       "16      18/07/2016\n",
       "17      18/07/2016\n",
       "18      26/08/2016\n",
       "19      26/08/2016\n",
       "20      22/09/2016\n",
       "21      22/09/2016\n",
       "22      03/11/2016\n",
       "23      03/11/2016\n",
       "24      29/12/2016\n",
       "25      29/12/2016\n",
       "26      03/01/2017\n",
       "27      03/01/2017\n",
       "28      06/03/2017\n",
       "29      06/03/2017\n",
       "           ...    \n",
       "8381             0\n",
       "8382             0\n",
       "8383             0\n",
       "8384             0\n",
       "8385             0\n",
       "8386             0\n",
       "8387             0\n",
       "8388             0\n",
       "8389             0\n",
       "8390             0\n",
       "8391             0\n",
       "8392             0\n",
       "8393             0\n",
       "8394             0\n",
       "8395             0\n",
       "8396             0\n",
       "8397             0\n",
       "8398             0\n",
       "8399             0\n",
       "8400             0\n",
       "8401             0\n",
       "8402             0\n",
       "8403             0\n",
       "8404             0\n",
       "8405             0\n",
       "8406             0\n",
       "8407             0\n",
       "8408             0\n",
       "8409             0\n",
       "8410             0\n",
       "Name: Data Pesquisa, Length: 8411, dtype: object"
      ]
     },
     "execution_count": 38,
     "metadata": {},
     "output_type": "execute_result"
    }
   ],
   "source": [
    "df_h['Data Pesquisa']"
   ]
  },
  {
   "cell_type": "code",
   "execution_count": 39,
   "metadata": {},
   "outputs": [],
   "source": [
    "zeros = df_h['Data Pesquisa']==0"
   ]
  },
  {
   "cell_type": "code",
   "execution_count": 40,
   "metadata": {},
   "outputs": [
    {
     "data": {
      "text/plain": [
       "0"
      ]
     },
     "execution_count": 40,
     "metadata": {},
     "output_type": "execute_result"
    }
   ],
   "source": [
    "zeros.sum()"
   ]
  },
  {
   "cell_type": "code",
   "execution_count": 41,
   "metadata": {
    "scrolled": true
   },
   "outputs": [
    {
     "ename": "ValueError",
     "evalue": "time data '0' does not match format '%d/%m/%Y' (match)",
     "output_type": "error",
     "traceback": [
      "\u001b[1;31m---------------------------------------------------------------------------\u001b[0m",
      "\u001b[1;31mTypeError\u001b[0m                                 Traceback (most recent call last)",
      "\u001b[1;32mD:\\anaconda\\envs\\tera-jul2018\\lib\\site-packages\\pandas\\core\\tools\\datetimes.py\u001b[0m in \u001b[0;36m_convert_listlike\u001b[1;34m(arg, box, format, name, tz)\u001b[0m\n\u001b[0;32m    302\u001b[0m             \u001b[1;32mtry\u001b[0m\u001b[1;33m:\u001b[0m\u001b[1;33m\u001b[0m\u001b[0m\n\u001b[1;32m--> 303\u001b[1;33m                 \u001b[0mvalues\u001b[0m\u001b[1;33m,\u001b[0m \u001b[0mtz\u001b[0m \u001b[1;33m=\u001b[0m \u001b[0mtslib\u001b[0m\u001b[1;33m.\u001b[0m\u001b[0mdatetime_to_datetime64\u001b[0m\u001b[1;33m(\u001b[0m\u001b[0marg\u001b[0m\u001b[1;33m)\u001b[0m\u001b[1;33m\u001b[0m\u001b[0m\n\u001b[0m\u001b[0;32m    304\u001b[0m                 \u001b[1;32mreturn\u001b[0m \u001b[0mDatetimeIndex\u001b[0m\u001b[1;33m.\u001b[0m\u001b[0m_simple_new\u001b[0m\u001b[1;33m(\u001b[0m\u001b[0mvalues\u001b[0m\u001b[1;33m,\u001b[0m \u001b[0mname\u001b[0m\u001b[1;33m=\u001b[0m\u001b[0mname\u001b[0m\u001b[1;33m,\u001b[0m \u001b[0mtz\u001b[0m\u001b[1;33m=\u001b[0m\u001b[0mtz\u001b[0m\u001b[1;33m)\u001b[0m\u001b[1;33m\u001b[0m\u001b[0m\n",
      "\u001b[1;32mpandas/_libs/tslib.pyx\u001b[0m in \u001b[0;36mpandas._libs.tslib.datetime_to_datetime64\u001b[1;34m()\u001b[0m\n",
      "\u001b[1;31mTypeError\u001b[0m: Unrecognized value type: <class 'str'>",
      "\nDuring handling of the above exception, another exception occurred:\n",
      "\u001b[1;31mValueError\u001b[0m                                Traceback (most recent call last)",
      "\u001b[1;32m<ipython-input-41-6f46905c184d>\u001b[0m in \u001b[0;36m<module>\u001b[1;34m()\u001b[0m\n\u001b[1;32m----> 1\u001b[1;33m \u001b[0mpd\u001b[0m\u001b[1;33m.\u001b[0m\u001b[0mto_datetime\u001b[0m\u001b[1;33m(\u001b[0m\u001b[0mdf_h\u001b[0m\u001b[1;33m[\u001b[0m\u001b[1;34m'Data Pesquisa'\u001b[0m\u001b[1;33m]\u001b[0m\u001b[1;33m,\u001b[0m \u001b[0mformat\u001b[0m\u001b[1;33m=\u001b[0m\u001b[1;34m\"%d/%m/%Y\"\u001b[0m\u001b[1;33m)\u001b[0m\u001b[1;33m\u001b[0m\u001b[0m\n\u001b[0m",
      "\u001b[1;32mD:\\anaconda\\envs\\tera-jul2018\\lib\\site-packages\\pandas\\core\\tools\\datetimes.py\u001b[0m in \u001b[0;36mto_datetime\u001b[1;34m(arg, errors, dayfirst, yearfirst, utc, box, format, exact, unit, infer_datetime_format, origin)\u001b[0m\n\u001b[0;32m    371\u001b[0m     \u001b[1;32melif\u001b[0m \u001b[0misinstance\u001b[0m\u001b[1;33m(\u001b[0m\u001b[0marg\u001b[0m\u001b[1;33m,\u001b[0m \u001b[0mABCSeries\u001b[0m\u001b[1;33m)\u001b[0m\u001b[1;33m:\u001b[0m\u001b[1;33m\u001b[0m\u001b[0m\n\u001b[0;32m    372\u001b[0m         \u001b[1;32mfrom\u001b[0m \u001b[0mpandas\u001b[0m \u001b[1;32mimport\u001b[0m \u001b[0mSeries\u001b[0m\u001b[1;33m\u001b[0m\u001b[0m\n\u001b[1;32m--> 373\u001b[1;33m         \u001b[0mvalues\u001b[0m \u001b[1;33m=\u001b[0m \u001b[0m_convert_listlike\u001b[0m\u001b[1;33m(\u001b[0m\u001b[0marg\u001b[0m\u001b[1;33m.\u001b[0m\u001b[0m_values\u001b[0m\u001b[1;33m,\u001b[0m \u001b[1;32mTrue\u001b[0m\u001b[1;33m,\u001b[0m \u001b[0mformat\u001b[0m\u001b[1;33m)\u001b[0m\u001b[1;33m\u001b[0m\u001b[0m\n\u001b[0m\u001b[0;32m    374\u001b[0m         \u001b[0mresult\u001b[0m \u001b[1;33m=\u001b[0m \u001b[0mSeries\u001b[0m\u001b[1;33m(\u001b[0m\u001b[0mvalues\u001b[0m\u001b[1;33m,\u001b[0m \u001b[0mindex\u001b[0m\u001b[1;33m=\u001b[0m\u001b[0marg\u001b[0m\u001b[1;33m.\u001b[0m\u001b[0mindex\u001b[0m\u001b[1;33m,\u001b[0m \u001b[0mname\u001b[0m\u001b[1;33m=\u001b[0m\u001b[0marg\u001b[0m\u001b[1;33m.\u001b[0m\u001b[0mname\u001b[0m\u001b[1;33m)\u001b[0m\u001b[1;33m\u001b[0m\u001b[0m\n\u001b[0;32m    375\u001b[0m     \u001b[1;32melif\u001b[0m \u001b[0misinstance\u001b[0m\u001b[1;33m(\u001b[0m\u001b[0marg\u001b[0m\u001b[1;33m,\u001b[0m \u001b[1;33m(\u001b[0m\u001b[0mABCDataFrame\u001b[0m\u001b[1;33m,\u001b[0m \u001b[0mMutableMapping\u001b[0m\u001b[1;33m)\u001b[0m\u001b[1;33m)\u001b[0m\u001b[1;33m:\u001b[0m\u001b[1;33m\u001b[0m\u001b[0m\n",
      "\u001b[1;32mD:\\anaconda\\envs\\tera-jul2018\\lib\\site-packages\\pandas\\core\\tools\\datetimes.py\u001b[0m in \u001b[0;36m_convert_listlike\u001b[1;34m(arg, box, format, name, tz)\u001b[0m\n\u001b[0;32m    304\u001b[0m                 \u001b[1;32mreturn\u001b[0m \u001b[0mDatetimeIndex\u001b[0m\u001b[1;33m.\u001b[0m\u001b[0m_simple_new\u001b[0m\u001b[1;33m(\u001b[0m\u001b[0mvalues\u001b[0m\u001b[1;33m,\u001b[0m \u001b[0mname\u001b[0m\u001b[1;33m=\u001b[0m\u001b[0mname\u001b[0m\u001b[1;33m,\u001b[0m \u001b[0mtz\u001b[0m\u001b[1;33m=\u001b[0m\u001b[0mtz\u001b[0m\u001b[1;33m)\u001b[0m\u001b[1;33m\u001b[0m\u001b[0m\n\u001b[0;32m    305\u001b[0m             \u001b[1;32mexcept\u001b[0m \u001b[1;33m(\u001b[0m\u001b[0mValueError\u001b[0m\u001b[1;33m,\u001b[0m \u001b[0mTypeError\u001b[0m\u001b[1;33m)\u001b[0m\u001b[1;33m:\u001b[0m\u001b[1;33m\u001b[0m\u001b[0m\n\u001b[1;32m--> 306\u001b[1;33m                 \u001b[1;32mraise\u001b[0m \u001b[0me\u001b[0m\u001b[1;33m\u001b[0m\u001b[0m\n\u001b[0m\u001b[0;32m    307\u001b[0m \u001b[1;33m\u001b[0m\u001b[0m\n\u001b[0;32m    308\u001b[0m     \u001b[1;32mif\u001b[0m \u001b[0marg\u001b[0m \u001b[1;32mis\u001b[0m \u001b[1;32mNone\u001b[0m\u001b[1;33m:\u001b[0m\u001b[1;33m\u001b[0m\u001b[0m\n",
      "\u001b[1;32mD:\\anaconda\\envs\\tera-jul2018\\lib\\site-packages\\pandas\\core\\tools\\datetimes.py\u001b[0m in \u001b[0;36m_convert_listlike\u001b[1;34m(arg, box, format, name, tz)\u001b[0m\n\u001b[0;32m    271\u001b[0m                     \u001b[1;32mtry\u001b[0m\u001b[1;33m:\u001b[0m\u001b[1;33m\u001b[0m\u001b[0m\n\u001b[0;32m    272\u001b[0m                         result = array_strptime(arg, format, exact=exact,\n\u001b[1;32m--> 273\u001b[1;33m                                                 errors=errors)\n\u001b[0m\u001b[0;32m    274\u001b[0m                     \u001b[1;32mexcept\u001b[0m \u001b[0mtslib\u001b[0m\u001b[1;33m.\u001b[0m\u001b[0mOutOfBoundsDatetime\u001b[0m\u001b[1;33m:\u001b[0m\u001b[1;33m\u001b[0m\u001b[0m\n\u001b[0;32m    275\u001b[0m                         \u001b[1;32mif\u001b[0m \u001b[0merrors\u001b[0m \u001b[1;33m==\u001b[0m \u001b[1;34m'raise'\u001b[0m\u001b[1;33m:\u001b[0m\u001b[1;33m\u001b[0m\u001b[0m\n",
      "\u001b[1;32mpandas/_libs/tslibs/strptime.pyx\u001b[0m in \u001b[0;36mpandas._libs.tslibs.strptime.array_strptime\u001b[1;34m()\u001b[0m\n",
      "\u001b[1;31mValueError\u001b[0m: time data '0' does not match format '%d/%m/%Y' (match)"
     ]
    }
   ],
   "source": [
    "pd.to_datetime(df_h['Data Pesquisa'], format=\"%d/%m/%Y\")"
   ]
  },
  {
   "cell_type": "code",
   "execution_count": null,
   "metadata": {},
   "outputs": [],
   "source": []
  },
  {
   "cell_type": "code",
   "execution_count": null,
   "metadata": {},
   "outputs": [],
   "source": []
  },
  {
   "cell_type": "code",
   "execution_count": null,
   "metadata": {},
   "outputs": [],
   "source": []
  }
 ],
 "metadata": {
  "kernelspec": {
   "display_name": "Python 3",
   "language": "python",
   "name": "python3"
  },
  "language_info": {
   "codemirror_mode": {
    "name": "ipython",
    "version": 3
   },
   "file_extension": ".py",
   "mimetype": "text/x-python",
   "name": "python",
   "nbconvert_exporter": "python",
   "pygments_lexer": "ipython3",
   "version": "3.6.5"
  }
 },
 "nbformat": 4,
 "nbformat_minor": 2
}
